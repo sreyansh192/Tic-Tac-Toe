{
 "cells": [
  {
   "cell_type": "code",
   "execution_count": 1,
   "metadata": {},
   "outputs": [],
   "source": [
    "def user_name1():\n",
    "    player1_name=input('Enter the name of player1 : ')\n",
    "    return player1_name"
   ]
  },
  {
   "cell_type": "code",
   "execution_count": 2,
   "metadata": {},
   "outputs": [],
   "source": [
    "def user_name2():\n",
    "    player2_name=input('Enter the name of player2 : ')\n",
    "    return player2_name"
   ]
  },
  {
   "cell_type": "code",
   "execution_count": 3,
   "metadata": {},
   "outputs": [],
   "source": [
    "def user_input_type():\n",
    "    while True:\n",
    "        input1 = input(\"choose a symbol 'X' or 'O' : \")\n",
    "        if input1.lower()=='x' or input1.lower()=='o':\n",
    "            break\n",
    "        else:\n",
    "            print(\"choose Either 'X' or 'O'!\")\n",
    "            continue\n",
    "    return input1.upper()"
   ]
  },
  {
   "cell_type": "code",
   "execution_count": 4,
   "metadata": {},
   "outputs": [],
   "source": [
    "def for_1player(r):\n",
    "    if r=='X':\n",
    "        return ' X '\n",
    "    else:\n",
    "        return ' O '"
   ]
  },
  {
   "cell_type": "code",
   "execution_count": 5,
   "metadata": {},
   "outputs": [],
   "source": [
    "def for_2player(x):\n",
    "    if x==' X ':\n",
    "        return ' O '\n",
    "    else:\n",
    "        return ' X '"
   ]
  },
  {
   "cell_type": "code",
   "execution_count": 6,
   "metadata": {},
   "outputs": [],
   "source": [
    "def display():\n",
    "    board=['   ','   ','   ','   ','   ','   ','   ','   ','   ',]\n",
    "    print(board[0] + '|' + board[1] + '|' + board[2] )\n",
    "    print('-----------')\n",
    "    print(board[3] + '|' + board[4] + '|' + board[5] )\n",
    "    print('-----------')\n",
    "    print(board[6] + '|' + board[7] + '|' + board[8] )"
   ]
  },
  {
   "cell_type": "code",
   "execution_count": 7,
   "metadata": {},
   "outputs": [],
   "source": [
    "def user_input():\n",
    "    result='d'\n",
    "    result1=10\n",
    "    while result.isdigit()==False or result1>8 or result1<0:\n",
    "        result=input('Enter a number (1-9): ')\n",
    "        if result.isdigit()==False:\n",
    "            print('sorry,invalid input')\n",
    "            continue\n",
    "        result1=int(result)-1\n",
    "        if result1>8 or result1<0:\n",
    "            print('sorry,invalid input')\n",
    "    return result1"
   ]
  },
  {
   "cell_type": "code",
   "execution_count": 8,
   "metadata": {},
   "outputs": [],
   "source": [
    "def input_check(z,mylist):\n",
    "    \n",
    "    if z in mylist:\n",
    "        print('sorry,repeated input!please try again')\n",
    "        return False\n",
    "    else:\n",
    "        return True"
   ]
  },
  {
   "cell_type": "code",
   "execution_count": 9,
   "metadata": {},
   "outputs": [],
   "source": [
    "def display1(x,y,z,count,board):\n",
    "    if count/2 < 5:\n",
    "        if count<9 and count%2==0:\n",
    "            board[z]=x\n",
    "        if count<9 and count%2!=0:\n",
    "            board[z]=y\n",
    "        count=count+1\n",
    "    print(board[0] + '|' + board[1] + '|' + board[2] )\n",
    "    print('-----------')\n",
    "    print(board[3] + '|' + board[4] + '|' + board[5] )\n",
    "    print('-----------')\n",
    "    print(board[6] + '|' + board[7] + '|' + board[8] )"
   ]
  },
  {
   "cell_type": "code",
   "execution_count": 10,
   "metadata": {},
   "outputs": [],
   "source": [
    "def check1(x,player1_name,board):\n",
    "    if board[0]==board[1]==board[2]==x:\n",
    "        print('wooohhhhhooooo!{} won the match'.format(player1_name))\n",
    "        print('winner winner chicken dinner!')\n",
    "        return True\n",
    "    elif board[3]==board[4]==board[5]==x:\n",
    "        print('wooohhhhhooooo!{} won the match'.format(player1_name))\n",
    "        print('winner winner chicken dinner!')\n",
    "        return True\n",
    "    elif board[6]==board[7]==board[8]==x:\n",
    "        print('wooohhhhhooooo!{} won the match'.format(player1_name))\n",
    "        print('winner winner chicken dinner!')\n",
    "        return True\n",
    "    elif board[0]==board[3]==board[6]==x:\n",
    "        print('wooohhhhhooooo!{} won the match'.format(player1_name))\n",
    "        print('winner winner chicken dinner!')\n",
    "        return True\n",
    "    elif board[1]==board[4]==board[7]==x:\n",
    "        print('wooohhhhhooooo!{} won the match'.format(player1_name))\n",
    "        print('winner winner chicken dinner!')\n",
    "        return True\n",
    "    elif board[2]==board[5]==board[8]==x:\n",
    "        print('wooohhhhhooooo!{} won the match'.format(player1_name))\n",
    "        print('winner winner chicken dinner!')\n",
    "        return True\n",
    "    elif board[0]==board[4]==board[8]==x:\n",
    "        print('wooohhhhhooooo!{} won the match'.format(player1_name))\n",
    "        print('winner winner chicken dinner!')\n",
    "        return True\n",
    "    elif board[2]==board[4]==board[6]==x:\n",
    "        print('wooohhhhhooooo!{} won the match'.format(player1_name))\n",
    "        print('winner winner chicken dinner!')\n",
    "        return True\n",
    "    else:\n",
    "        return False\n",
    "    "
   ]
  },
  {
   "cell_type": "code",
   "execution_count": 11,
   "metadata": {},
   "outputs": [],
   "source": [
    "def check2(y,player2_name,board):\n",
    "    if board[0]==board[1]==board[2]==y:\n",
    "        print('wooohhhhhooooo!{} won the match'.format(player2_name))\n",
    "        print('winner winner chicken dinner!')\n",
    "        return True\n",
    "    elif board[3]==board[4]==board[5]==y:\n",
    "        print('wooohhhhhooooo!{} won the match'.format(player2_name))\n",
    "        print('winner winner chicken dinner!')\n",
    "        return True\n",
    "    elif board[6]==board[7]==board[8]==y:\n",
    "        print('wooohhhhhooooo!{} won the match'.format(player2_name))\n",
    "        print('winner winner chicken dinner!')\n",
    "        return True\n",
    "    elif board[0]==board[3]==board[6]==y:\n",
    "        print('wooohhhhhooooo!{} won the match'.format(player2_name))\n",
    "        print('winner winner chicken dinner!')\n",
    "        return True\n",
    "    elif board[1]==board[4]==board[7]==y:\n",
    "        print('wooohhhhhooooo!{} won the match'.format(player2_name))\n",
    "        print('winner winner chicken dinner!')\n",
    "        return True\n",
    "    elif board[2]==board[5]==board[8]==y:\n",
    "        print('wooohhhhhooooo!{} won the match'.format(player2_name))\n",
    "        print('winner winner chicken dinner!')\n",
    "        return True\n",
    "    elif board[0]==board[4]==board[8]==y:\n",
    "        print('wooohhhhhooooo!{} won the match'.format(player2_name))\n",
    "        print('winner winner chicken dinner!')\n",
    "        return True\n",
    "    elif board[2]==board[4]==board[6]==y:\n",
    "        print('wooohhhhhooooo!{} won the match'.format(player2_name))\n",
    "        print('winner winner chicken dinner!')\n",
    "        return True\n",
    "    else:\n",
    "        return False"
   ]
  },
  {
   "cell_type": "code",
   "execution_count": 12,
   "metadata": {},
   "outputs": [],
   "source": [
    "def rematch():\n",
    "    print('Do you want to play again? ')\n",
    "    statement=input('Type Yes or No:')\n",
    "    if statement.lower()=='yes':\n",
    "        return True\n",
    "    elif statement.lower()=='no':\n",
    "        return False\n",
    "    else:\n",
    "        print('sorry,invalid input')"
   ]
  },
  {
   "cell_type": "code",
   "execution_count": 16,
   "metadata": {},
   "outputs": [],
   "source": [
    "def game_on():\n",
    "    c=True\n",
    "    player1_name=user_name1()\n",
    "    player2_name=user_name2()\n",
    "    while c==True:\n",
    "        from IPython.display import clear_output\n",
    "        clear_output()\n",
    "        r=user_input_type()\n",
    "        x=for_1player(r)\n",
    "        y=for_2player(x)\n",
    "        clear_output()\n",
    "        display()\n",
    "        board=['   ','   ','   ','   ','   ','   ','   ','   ','   ',]\n",
    "        count=0\n",
    "        mylist=[]\n",
    "        while count<9:\n",
    "            d=False\n",
    "            while d==False:\n",
    "                z=int(user_input())\n",
    "                d=input_check(z,mylist)\n",
    "                if d==True:\n",
    "                    mylist.append(z)\n",
    "            clear_output()\n",
    "            display1(x,y,z,count,board)\n",
    "            count=count+1\n",
    "            a=check1(x,player1_name,board)\n",
    "            b=check2(y,player2_name,board)\n",
    "            if a==True or b==True:\n",
    "                break\n",
    "        if a==False and b==False:\n",
    "            print('ooops! match tied')\n",
    "        c=rematch()\n",
    "        \n",
    "      \n",
    "    "
   ]
  },
  {
   "cell_type": "code",
   "execution_count": null,
   "metadata": {},
   "outputs": [],
   "source": [
    "game_on()"
   ]
  },
  {
   "cell_type": "code",
   "execution_count": null,
   "metadata": {},
   "outputs": [],
   "source": []
  },
  {
   "cell_type": "code",
   "execution_count": null,
   "metadata": {},
   "outputs": [],
   "source": []
  },
  {
   "cell_type": "code",
   "execution_count": null,
   "metadata": {},
   "outputs": [],
   "source": []
  },
  {
   "cell_type": "code",
   "execution_count": null,
   "metadata": {},
   "outputs": [],
   "source": []
  },
  {
   "cell_type": "code",
   "execution_count": null,
   "metadata": {},
   "outputs": [],
   "source": []
  }
 ],
 "metadata": {
  "kernelspec": {
   "display_name": "Python 3",
   "language": "python",
   "name": "python3"
  },
  "language_info": {
   "codemirror_mode": {
    "name": "ipython",
    "version": 3
   },
   "file_extension": ".py",
   "mimetype": "text/x-python",
   "name": "python",
   "nbconvert_exporter": "python",
   "pygments_lexer": "ipython3",
   "version": "3.7.6"
  }
 },
 "nbformat": 4,
 "nbformat_minor": 4
}
